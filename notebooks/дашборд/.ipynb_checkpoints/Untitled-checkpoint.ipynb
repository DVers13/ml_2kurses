{
 "cells": [
  {
   "cell_type": "code",
   "execution_count": 3,
   "id": "e77cdd5b",
   "metadata": {},
   "outputs": [],
   "source": [
    "import tensorflow as tf\n",
    "from sklearn.preprocessing import StandardScaler, MinMaxScaler\n",
    "import pandas as pd\n",
    "from math import sqrt\n",
    "import numpy as np\n",
    "from sklearn.decomposition import PCA\n",
    "from sklearn.model_selection import train_test_split\n",
    "import matplotlib.pyplot as plt\n",
    "from sklearn.metrics import mean_squared_error, mean_absolute_error, mean_absolute_percentage_error, r2_score\n",
    "import seaborn as sns\n",
    "import pickle\n",
    "import warnings\n",
    "warnings.filterwarnings('ignore')"
   ]
  },
  {
   "cell_type": "code",
   "execution_count": 21,
   "id": "52eb191e",
   "metadata": {},
   "outputs": [],
   "source": [
    "data = pd.read_csv('D:/ML/data/cars.csv')\n",
    "data[\"engine_capacity\"] = data[\"engine_capacity\"].fillna(data[\"engine_capacity\"].mean())\n",
    "maping = {\n",
    "    True : 1,\n",
    "    False : 0,\n",
    "    'Минская обл.' : 5,\n",
    "    'Гомельская обл.' : 3,\n",
    "    'Брестская обл.' : 1,\n",
    "    'Могилевская обл.' : 6,\n",
    "    'Витебская обл.' : 2,\n",
    "    'Гродненская обл.' : 4,\n",
    "    'automatic' : 1,\n",
    "    'mechanical' : -1\n",
    "}\n",
    "data = data.replace(maping)\n",
    "category_col = [\n",
    "    \"color\",\n",
    "    \"engine_fuel\",\n",
    "    \"engine_type\",\n",
    "    \"body_type\",\n",
    "    \"state\",\n",
    "    \"drivetrain\",\n",
    "    \"model_name\",\n",
    "    \"manufacturer_name\"\n",
    "]\n",
    "data = pd.get_dummies(data=data, columns=category_col)\n",
    "data.to_csv('D:/ML/data/cars_preprocessed.csv', index=False)"
   ]
  },
  {
   "cell_type": "code",
   "execution_count": 28,
   "id": "9b167a4a",
   "metadata": {},
   "outputs": [],
   "source": [
    "data = pd.read_csv('D:/ML/data/cars_preprocessed.csv')\n",
    "y = data[[\"price_usd\"]]\n",
    "X = data.drop([\"price_usd\"], axis=1)"
   ]
  },
  {
   "cell_type": "code",
   "execution_count": 46,
   "id": "2eaf1190",
   "metadata": {},
   "outputs": [],
   "source": [
    "pca = PCA(n_components=8)\n",
    "X_pca = pca.fit_transform(X, y)"
   ]
  },
  {
   "cell_type": "code",
   "execution_count": 47,
   "id": "88fc204b",
   "metadata": {},
   "outputs": [],
   "source": [
    "X_train, X_test, y_train, y_test = train_test_split(X, y, test_size=0.15, shuffle=False)"
   ]
  },
  {
   "cell_type": "code",
   "execution_count": 58,
   "id": "bdb2ea84",
   "metadata": {},
   "outputs": [
    {
     "data": {
      "text/plain": [
       "<keras.callbacks.History at 0x267dabfb040>"
      ]
     },
     "execution_count": 58,
     "metadata": {},
     "output_type": "execute_result"
    }
   ],
   "source": [
    "model_regression = tf.keras.Sequential(\n",
    "    [\n",
    "        tf.keras.layers.Dense(64, activation=\"linear\", input_shape=(X_train.shape[1],)),\n",
    "        tf.keras.layers.Dense(32, activation=\"relu\"),\n",
    "        tf.keras.layers.Dense(16, activation=\"linear\"),\n",
    "        tf.keras.layers.Dense(8, activation=\"relu\"),\n",
    "        tf.keras.layers.Dropout(0.1),\n",
    "        tf.keras.layers.Dense(1, activation=\"linear\"),\n",
    "    ]\n",
    ")\n",
    "model_regression.compile(optimizer=tf.keras.optimizers.Adam(learning_rate=0.005), loss=\"mae\")\n",
    "model_regression.fit(X_train, y_train, epochs=20, verbose=False)"
   ]
  },
  {
   "cell_type": "code",
   "execution_count": 59,
   "id": "91d972c2",
   "metadata": {},
   "outputs": [
    {
     "name": "stdout",
     "output_type": "stream",
     "text": [
      "181/181 [==============================] - 0s 605us/step\n",
      "MAE: 2981.437361501621\n",
      "MSE: 25053739.864218276\n",
      "RMSE: 5005.371101548643\n",
      "MAPE: 1.3079520828205096\n",
      "R^2: 0.442942695082174\n"
     ]
    },
    {
     "name": "stderr",
     "output_type": "stream",
     "text": [
      "WARNING:absl:Found untraced functions such as _update_step_xla while saving (showing 1 of 1). These functions will not be directly callable after loading.\n"
     ]
    },
    {
     "name": "stdout",
     "output_type": "stream",
     "text": [
      "INFO:tensorflow:Assets written to: D:/ML/model/cars_preprocessed_tensor.csv\\assets\n"
     ]
    },
    {
     "name": "stderr",
     "output_type": "stream",
     "text": [
      "INFO:tensorflow:Assets written to: D:/ML/model/cars_preprocessed_tensor.csv\\assets\n"
     ]
    }
   ],
   "source": [
    "y_pred = model_regression.predict(X_test)\n",
    "print(f'MAE: {mean_absolute_error(y_test, y_pred)}')\n",
    "print(f'MSE: {mean_squared_error(y_test, y_pred)}')\n",
    "print(f'RMSE: {sqrt(mean_squared_error(y_test, y_pred))}')\n",
    "print(f'MAPE: {(mean_absolute_percentage_error(y_test, y_pred))}')\n",
    "print(f'R^2: {r2_score(y_test, y_pred)}')\n",
    "model_regression.save('D:/ML/model/cars_preprocessed_tensor.csv')"
   ]
  },
  {
   "cell_type": "code",
   "execution_count": null,
   "id": "82c51a4f",
   "metadata": {},
   "outputs": [],
   "source": []
  }
 ],
 "metadata": {
  "kernelspec": {
   "display_name": "Python 3 (ipykernel)",
   "language": "python",
   "name": "python3"
  },
  "language_info": {
   "codemirror_mode": {
    "name": "ipython",
    "version": 3
   },
   "file_extension": ".py",
   "mimetype": "text/x-python",
   "name": "python",
   "nbconvert_exporter": "python",
   "pygments_lexer": "ipython3",
   "version": "3.9.13"
  }
 },
 "nbformat": 4,
 "nbformat_minor": 5
}
