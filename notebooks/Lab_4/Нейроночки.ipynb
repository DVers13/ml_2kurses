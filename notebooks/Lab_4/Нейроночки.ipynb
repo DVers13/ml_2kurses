{
 "cells": [
  {
   "cell_type": "code",
   "execution_count": 3,
   "id": "9e9fc91d",
   "metadata": {},
   "outputs": [],
   "source": [
    "import tensorflow as tf\n",
    "import pandas as pd\n",
    "from math import sqrt\n",
    "import numpy as np\n",
    "from sklearn.preprocessing import StandardScaler, MinMaxScaler\n",
    "from sklearn.model_selection import train_test_split\n",
    "from sklearn.metrics import mean_squared_error, mean_absolute_error, mean_absolute_percentage_error, r2_score\n",
    "from sklearn.metrics import accuracy_score, confusion_matrix, classification_report\n",
    "import warnings\n",
    "warnings.filterwarnings('ignore')"
   ]
  },
  {
   "cell_type": "code",
   "execution_count": 8,
   "id": "6df54539",
   "metadata": {},
   "outputs": [],
   "source": [
    "df_classification = pd.read_csv('D:/ML/data/classification/airlines_task_preprocessed.csv', index_col=0)\n",
    "df_regression = pd.read_csv('D:/ML/data/regression/moldova_cars_task_preprocessed.csv', index_col=0)\n",
    "y_cf = df_classification[[\"Delay\"]]\n",
    "X_cf = df_classification.drop([\"Delay\"], axis=1)\n",
    "\n",
    "mms = MinMaxScaler()\n",
    "mms.fit(X_cf)\n",
    "X_cf = mms.transform(X_cf)\n",
    "\n",
    "y_rs = df_regression[[\"Price(euro)\"]]\n",
    "X_rs = df_regression.drop([\"Price(euro)\"], axis=1)\n",
    "\n",
    "mms = MinMaxScaler()\n",
    "mms.fit(X_rs)\n",
    "X_rs = mms.transform(X_rs)\n",
    "\n",
    "X_train_cf, X_test_cf, y_train_cf, y_test_cf = train_test_split(X_cf, y_cf, test_size=0.2, random_state=4)\n",
    "X_train_rs, X_test_rs, y_train_rs, y_test_rs = train_test_split(X_rs, y_rs, test_size=0.2, random_state=4)\n",
    "\n",
    "w0 = 1 / y_train_cf[y_train_cf==0].shape[0]\n",
    "w1 = 1 / y_train_cf[y_train_cf==1].shape[0]"
   ]
  },
  {
   "cell_type": "code",
   "execution_count": 25,
   "id": "cdb02a37",
   "metadata": {},
   "outputs": [
    {
     "name": "stdout",
     "output_type": "stream",
     "text": [
      "Epoch 1/10\n",
      "925/925 [==============================] - 1s 787us/step - loss: 5419.4302\n",
      "Epoch 2/10\n",
      "925/925 [==============================] - 1s 730us/step - loss: 4691.5361\n",
      "Epoch 3/10\n",
      "925/925 [==============================] - 1s 737us/step - loss: 4482.9570\n",
      "Epoch 4/10\n",
      "925/925 [==============================] - 1s 838us/step - loss: 3854.2559\n",
      "Epoch 5/10\n",
      "925/925 [==============================] - 1s 731us/step - loss: 3434.6067\n",
      "Epoch 6/10\n",
      "925/925 [==============================] - 1s 734us/step - loss: 3366.1519\n",
      "Epoch 7/10\n",
      "925/925 [==============================] - 1s 734us/step - loss: 3316.4141\n",
      "Epoch 8/10\n",
      "925/925 [==============================] - 1s 729us/step - loss: 3278.9807\n",
      "Epoch 9/10\n",
      "925/925 [==============================] - 1s 771us/step - loss: 3257.4824\n",
      "Epoch 10/10\n",
      "925/925 [==============================] - 1s 722us/step - loss: 3252.2083\n"
     ]
    },
    {
     "data": {
      "text/plain": [
       "<keras.callbacks.History at 0x183de746d90>"
      ]
     },
     "execution_count": 25,
     "metadata": {},
     "output_type": "execute_result"
    }
   ],
   "source": [
    "model_regression = tf.keras.Sequential(\n",
    "    [\n",
    "        tf.keras.layers.Dense(4, activation=\"relu\", input_shape=(X_train_rs.shape[1],)),\n",
    "        tf.keras.layers.Dense(8, activation=\"relu\"),\n",
    "        tf.keras.layers.Dense(12, activation=\"relu\"),\n",
    "        tf.keras.layers.Dropout(0.05),\n",
    "        tf.keras.layers.Dense(8, activation=\"relu\"),\n",
    "        tf.keras.layers.Dense(4, activation=\"relu\"),\n",
    "        tf.keras.layers.Dense(4, activation=\"relu\"),\n",
    "        tf.keras.layers.Dense(2, activation=\"linear\"),\n",
    "        tf.keras.layers.Dense(1, activation=\"linear\"),\n",
    "    ]\n",
    ")\n",
    "model_regression.compile(optimizer=tf.keras.optimizers.Adam(learning_rate=0.005), loss=\"mae\")\n",
    "model_regression.fit(X_train_rs, y_train_rs, epochs=10)"
   ]
  },
  {
   "cell_type": "code",
   "execution_count": 20,
   "id": "ebdbf3eb",
   "metadata": {},
   "outputs": [
    {
     "name": "stdout",
     "output_type": "stream",
     "text": [
      "232/232 [==============================] - 0s 523us/step\n",
      "MAE: 2836.202201538829\n",
      "MSE: 71084783.6641899\n",
      "RMSE: 8431.179257031006\n",
      "MAPE: 0.39319112878680645\n",
      "R^2: 0.4896871340873018\n"
     ]
    }
   ],
   "source": [
    "y_pred = model_regression.predict(X_test_rs)\n",
    "print(f'MAE: {mean_absolute_error(y_test_rs, y_pred)}')\n",
    "print(f'MSE: {mean_squared_error(y_test_rs, y_pred)}')\n",
    "print(f'RMSE: {sqrt(mean_squared_error(y_test_rs, y_pred))}')\n",
    "print(f'MAPE: {(mean_absolute_percentage_error(y_test_rs, y_pred))}')\n",
    "print(f'R^2: {r2_score(y_test_rs, y_pred)}')"
   ]
  },
  {
   "cell_type": "code",
   "execution_count": 11,
   "id": "adab99af",
   "metadata": {},
   "outputs": [
    {
     "name": "stdout",
     "output_type": "stream",
     "text": [
      "Epoch 1/5\n",
      "3612/3612 [==============================] - 4s 882us/step - loss: 5.4522e-06\n",
      "Epoch 2/5\n",
      "3612/3612 [==============================] - 3s 875us/step - loss: 5.3467e-06\n",
      "Epoch 3/5\n",
      "3612/3612 [==============================] - 3s 878us/step - loss: 5.3119e-06\n",
      "Epoch 4/5\n",
      "3612/3612 [==============================] - 3s 877us/step - loss: 5.2931e-06\n",
      "Epoch 5/5\n",
      "3612/3612 [==============================] - 3s 877us/step - loss: 5.2806e-06\n"
     ]
    },
    {
     "data": {
      "text/plain": [
       "<keras.callbacks.History at 0x183d9def130>"
      ]
     },
     "execution_count": 11,
     "metadata": {},
     "output_type": "execute_result"
    }
   ],
   "source": [
    "model_classification = tf.keras.Sequential(\n",
    "    [\n",
    "        tf.keras.layers.Dense(64, activation=\"relu\", input_shape=(X_train_cf.shape[1],)),\n",
    "        tf.keras.layers.Dense(128, activation=\"relu\"),\n",
    "        tf.keras.layers.Dropout(0.05),\n",
    "        tf.keras.layers.Dense(64, activation=\"relu\"),\n",
    "        tf.keras.layers.Dense(32, activation=\"relu\"),\n",
    "        tf.keras.layers.Dense(16, activation=\"relu\"),\n",
    "        tf.keras.layers.Dense(2, activation=\"softmax\"),\n",
    "    ]\n",
    ")\n",
    "model_classification.compile(optimizer=tf.keras.optimizers.Adam(learning_rate=0.005), loss=\"sparse_categorical_crossentropy\")\n",
    "model_classification.fit(X_train_cf, y_train_cf, epochs=5,\n",
    "                           class_weight={0: w0, 1: w1})"
   ]
  },
  {
   "cell_type": "code",
   "execution_count": 12,
   "id": "0252f227",
   "metadata": {},
   "outputs": [
    {
     "name": "stdout",
     "output_type": "stream",
     "text": [
      "0.6762415642844782\n",
      "[[15656  2430]\n",
      " [ 6925  3884]]\n",
      "              precision    recall  f1-score   support\n",
      "\n",
      "           0       0.69      0.87      0.77     18086\n",
      "           1       0.62      0.36      0.45     10809\n",
      "\n",
      "    accuracy                           0.68     28895\n",
      "   macro avg       0.65      0.61      0.61     28895\n",
      "weighted avg       0.66      0.68      0.65     28895\n",
      "\n"
     ]
    }
   ],
   "source": [
    "predictions = [np.argmax(pred) for pred in model_classification.predict(X_test_cf, verbose=None)]\n",
    "print(accuracy_score(y_test_cf, predictions))\n",
    "print(confusion_matrix(y_test_cf, predictions))\n",
    "print(classification_report(y_test_cf, predictions))"
   ]
  },
  {
   "cell_type": "code",
   "execution_count": null,
   "id": "eb7d141e",
   "metadata": {},
   "outputs": [],
   "source": []
  }
 ],
 "metadata": {
  "kernelspec": {
   "display_name": "Python 3 (ipykernel)",
   "language": "python",
   "name": "python3"
  },
  "language_info": {
   "codemirror_mode": {
    "name": "ipython",
    "version": 3
   },
   "file_extension": ".py",
   "mimetype": "text/x-python",
   "name": "python",
   "nbconvert_exporter": "python",
   "pygments_lexer": "ipython3",
   "version": "3.9.13"
  }
 },
 "nbformat": 4,
 "nbformat_minor": 5
}
