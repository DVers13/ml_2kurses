{
 "cells": [
  {
   "cell_type": "markdown",
   "id": "5c35398d",
   "metadata": {},
   "source": [
    "загрузите датасет для регрессии, выделите целевой признак и предикторы, разбейте данные на обучающую и тестовую выборку;\n",
    "решите задачу регрессии на ваших данных с использованием моделей sklearn (линейная регрессия + L1, L2), для моделей с регуляризациями подберите гиперпараметр;\n",
    "решите задачу регрессии на ваших данных с использованием моделей sklearn (полиномиальная регрессия + L1, L2), для моделей с регуляризациями подберите гиперпараметр;\n",
    "вычислите значения метрик  R2 , MAE, MSE, RMSE, MAPE для всех обученных моделей; выберите лучшую модель;\n",
    "самостоятельно реализуйте (желательно в виде класса) модель линейной регрессии с регуляризацией (можете выбрать L1 или L2);\n",
    "самостоятельно реализуйте вычисление всех используемых метрик (в виде функций, принимающих два аргумента);\n",
    "обучите вашу модель линейной регрессии на ваших данных; оцените качество с помощью реализованных вами метрик."
   ]
  },
  {
   "cell_type": "code",
   "execution_count": 2,
   "id": "020e44bf",
   "metadata": {
    "scrolled": true
   },
   "outputs": [],
   "source": [
    "import pandas as pd\n",
    "import numpy as np\n",
    "import matplotlib.pyplot as plt\n",
    "from sklearn.model_selection import train_test_split\n",
    "from sklearn.linear_model import LinearRegression, Lasso, Ridge\n",
    "from sklearn.metrics import mean_squared_error, mean_absolute_error, mean_absolute_percentage_error\n",
    "from sklearn.model_selection import GridSearchCV, RandomizedSearchCV\n",
    "from sklearn.preprocessing import PolynomialFeatures, LabelEncoder\n",
    "from category_encoders.binary import BinaryEncoder\n",
    "from math import sqrt"
   ]
  },
  {
   "cell_type": "code",
   "execution_count": 21,
   "id": "0032ca4c",
   "metadata": {},
   "outputs": [],
   "source": [
    "import warnings \n",
    "warnings.filterwarnings(\"ignore\")"
   ]
  },
  {
   "cell_type": "code",
   "execution_count": 3,
   "id": "400f1a2c",
   "metadata": {
    "scrolled": true
   },
   "outputs": [
    {
     "data": {
      "text/html": [
       "<div>\n",
       "<style scoped>\n",
       "    .dataframe tbody tr th:only-of-type {\n",
       "        vertical-align: middle;\n",
       "    }\n",
       "\n",
       "    .dataframe tbody tr th {\n",
       "        vertical-align: top;\n",
       "    }\n",
       "\n",
       "    .dataframe thead th {\n",
       "        text-align: right;\n",
       "    }\n",
       "</style>\n",
       "<table border=\"1\" class=\"dataframe\">\n",
       "  <thead>\n",
       "    <tr style=\"text-align: right;\">\n",
       "      <th></th>\n",
       "      <th>Year</th>\n",
       "      <th>Style</th>\n",
       "      <th>Distance</th>\n",
       "      <th>Engine_capacity(cm3)</th>\n",
       "      <th>Fuel_type</th>\n",
       "      <th>Transmission</th>\n",
       "      <th>Price(euro)</th>\n",
       "    </tr>\n",
       "  </thead>\n",
       "  <tbody>\n",
       "    <tr>\n",
       "      <th>0</th>\n",
       "      <td>2011.0</td>\n",
       "      <td>Hatchback</td>\n",
       "      <td>195000.0</td>\n",
       "      <td>1800.0</td>\n",
       "      <td>Hybrid</td>\n",
       "      <td>Automatic</td>\n",
       "      <td>7750.0</td>\n",
       "    </tr>\n",
       "    <tr>\n",
       "      <th>1</th>\n",
       "      <td>2014.0</td>\n",
       "      <td>Universal</td>\n",
       "      <td>135000.0</td>\n",
       "      <td>1500.0</td>\n",
       "      <td>Diesel</td>\n",
       "      <td>Manual</td>\n",
       "      <td>8550.0</td>\n",
       "    </tr>\n",
       "    <tr>\n",
       "      <th>2</th>\n",
       "      <td>1998.0</td>\n",
       "      <td>Hatchback</td>\n",
       "      <td>1.0</td>\n",
       "      <td>1400.0</td>\n",
       "      <td>Petrol</td>\n",
       "      <td>Manual</td>\n",
       "      <td>2200.0</td>\n",
       "    </tr>\n",
       "    <tr>\n",
       "      <th>3</th>\n",
       "      <td>2012.0</td>\n",
       "      <td>Universal</td>\n",
       "      <td>110000.0</td>\n",
       "      <td>1500.0</td>\n",
       "      <td>Diesel</td>\n",
       "      <td>Manual</td>\n",
       "      <td>6550.0</td>\n",
       "    </tr>\n",
       "    <tr>\n",
       "      <th>4</th>\n",
       "      <td>2006.0</td>\n",
       "      <td>Universal</td>\n",
       "      <td>200000.0</td>\n",
       "      <td>1600.0</td>\n",
       "      <td>Metan/Propan</td>\n",
       "      <td>Manual</td>\n",
       "      <td>4100.0</td>\n",
       "    </tr>\n",
       "    <tr>\n",
       "      <th>...</th>\n",
       "      <td>...</td>\n",
       "      <td>...</td>\n",
       "      <td>...</td>\n",
       "      <td>...</td>\n",
       "      <td>...</td>\n",
       "      <td>...</td>\n",
       "      <td>...</td>\n",
       "    </tr>\n",
       "    <tr>\n",
       "      <th>36957</th>\n",
       "      <td>2002.0</td>\n",
       "      <td>Crossover</td>\n",
       "      <td>225000.0</td>\n",
       "      <td>1800.0</td>\n",
       "      <td>Metan/Propan</td>\n",
       "      <td>Manual</td>\n",
       "      <td>4400.0</td>\n",
       "    </tr>\n",
       "    <tr>\n",
       "      <th>36958</th>\n",
       "      <td>2015.0</td>\n",
       "      <td>Universal</td>\n",
       "      <td>89000.0</td>\n",
       "      <td>1500.0</td>\n",
       "      <td>Diesel</td>\n",
       "      <td>Manual</td>\n",
       "      <td>7000.0</td>\n",
       "    </tr>\n",
       "    <tr>\n",
       "      <th>36959</th>\n",
       "      <td>2009.0</td>\n",
       "      <td>Hatchback</td>\n",
       "      <td>225.0</td>\n",
       "      <td>1500.0</td>\n",
       "      <td>Diesel</td>\n",
       "      <td>Manual</td>\n",
       "      <td>4500.0</td>\n",
       "    </tr>\n",
       "    <tr>\n",
       "      <th>36960</th>\n",
       "      <td>2006.0</td>\n",
       "      <td>Combi</td>\n",
       "      <td>370000.0</td>\n",
       "      <td>2000.0</td>\n",
       "      <td>Diesel</td>\n",
       "      <td>Manual</td>\n",
       "      <td>4000.0</td>\n",
       "    </tr>\n",
       "    <tr>\n",
       "      <th>36961</th>\n",
       "      <td>2006.0</td>\n",
       "      <td>Minivan</td>\n",
       "      <td>300000.0</td>\n",
       "      <td>1500.0</td>\n",
       "      <td>Diesel</td>\n",
       "      <td>Manual</td>\n",
       "      <td>4000.0</td>\n",
       "    </tr>\n",
       "  </tbody>\n",
       "</table>\n",
       "<p>36962 rows × 7 columns</p>\n",
       "</div>"
      ],
      "text/plain": [
       "         Year      Style  Distance  Engine_capacity(cm3)     Fuel_type  \\\n",
       "0      2011.0  Hatchback  195000.0                1800.0        Hybrid   \n",
       "1      2014.0  Universal  135000.0                1500.0        Diesel   \n",
       "2      1998.0  Hatchback       1.0                1400.0        Petrol   \n",
       "3      2012.0  Universal  110000.0                1500.0        Diesel   \n",
       "4      2006.0  Universal  200000.0                1600.0  Metan/Propan   \n",
       "...       ...        ...       ...                   ...           ...   \n",
       "36957  2002.0  Crossover  225000.0                1800.0  Metan/Propan   \n",
       "36958  2015.0  Universal   89000.0                1500.0        Diesel   \n",
       "36959  2009.0  Hatchback     225.0                1500.0        Diesel   \n",
       "36960  2006.0      Combi  370000.0                2000.0        Diesel   \n",
       "36961  2006.0    Minivan  300000.0                1500.0        Diesel   \n",
       "\n",
       "      Transmission  Price(euro)  \n",
       "0        Automatic       7750.0  \n",
       "1           Manual       8550.0  \n",
       "2           Manual       2200.0  \n",
       "3           Manual       6550.0  \n",
       "4           Manual       4100.0  \n",
       "...            ...          ...  \n",
       "36957       Manual       4400.0  \n",
       "36958       Manual       7000.0  \n",
       "36959       Manual       4500.0  \n",
       "36960       Manual       4000.0  \n",
       "36961       Manual       4000.0  \n",
       "\n",
       "[36962 rows x 7 columns]"
      ]
     },
     "execution_count": 3,
     "metadata": {},
     "output_type": "execute_result"
    }
   ],
   "source": [
    "data = pd.read_csv('../data/regression/moldova_cars_task.csv')\n",
    "data = data.drop([\"Model\", \"Make\"], axis=1) #\n",
    "data = data.drop_duplicates()\n",
    "for column in list(data):\n",
    "    if data[column].dtype == 'float64':\n",
    "        vec = data[column]\n",
    "        vecnonan = vec[np.isfinite(vec)]\n",
    "        avg = round(sum(vecnonan)/len(vecnonan))\n",
    "\n",
    "        newColumns = list(map(lambda x: avg if np.isnan(x) else x, list(data[column])))\n",
    "        data[column] = newColumns\n",
    "data = data.dropna()\n",
    "data.reset_index(drop= True, inplace= True)\n",
    "data"
   ]
  },
  {
   "cell_type": "code",
   "execution_count": 4,
   "id": "562dc981",
   "metadata": {
    "scrolled": true
   },
   "outputs": [
    {
     "data": {
      "text/html": [
       "<div>\n",
       "<style scoped>\n",
       "    .dataframe tbody tr th:only-of-type {\n",
       "        vertical-align: middle;\n",
       "    }\n",
       "\n",
       "    .dataframe tbody tr th {\n",
       "        vertical-align: top;\n",
       "    }\n",
       "\n",
       "    .dataframe thead th {\n",
       "        text-align: right;\n",
       "    }\n",
       "</style>\n",
       "<table border=\"1\" class=\"dataframe\">\n",
       "  <thead>\n",
       "    <tr style=\"text-align: right;\">\n",
       "      <th></th>\n",
       "      <th>Year</th>\n",
       "      <th>Distance</th>\n",
       "      <th>Engine_capacity(cm3)</th>\n",
       "      <th>Transmission</th>\n",
       "      <th>Price(euro)</th>\n",
       "      <th>Style_0</th>\n",
       "      <th>Style_1</th>\n",
       "      <th>Style_2</th>\n",
       "      <th>Style_3</th>\n",
       "      <th>Fuel_type_Diesel</th>\n",
       "      <th>Fuel_type_Electric</th>\n",
       "      <th>Fuel_type_Hybrid</th>\n",
       "      <th>Fuel_type_Metan/Propan</th>\n",
       "      <th>Fuel_type_Petrol</th>\n",
       "      <th>Fuel_type_Plug-in Hybrid</th>\n",
       "    </tr>\n",
       "  </thead>\n",
       "  <tbody>\n",
       "    <tr>\n",
       "      <th>0</th>\n",
       "      <td>2011.0</td>\n",
       "      <td>195000.0</td>\n",
       "      <td>1800.0</td>\n",
       "      <td>0</td>\n",
       "      <td>7750.0</td>\n",
       "      <td>0</td>\n",
       "      <td>0</td>\n",
       "      <td>0</td>\n",
       "      <td>1</td>\n",
       "      <td>0</td>\n",
       "      <td>0</td>\n",
       "      <td>1</td>\n",
       "      <td>0</td>\n",
       "      <td>0</td>\n",
       "      <td>0</td>\n",
       "    </tr>\n",
       "    <tr>\n",
       "      <th>1</th>\n",
       "      <td>2014.0</td>\n",
       "      <td>135000.0</td>\n",
       "      <td>1500.0</td>\n",
       "      <td>1</td>\n",
       "      <td>8550.0</td>\n",
       "      <td>0</td>\n",
       "      <td>0</td>\n",
       "      <td>1</td>\n",
       "      <td>0</td>\n",
       "      <td>1</td>\n",
       "      <td>0</td>\n",
       "      <td>0</td>\n",
       "      <td>0</td>\n",
       "      <td>0</td>\n",
       "      <td>0</td>\n",
       "    </tr>\n",
       "    <tr>\n",
       "      <th>2</th>\n",
       "      <td>1998.0</td>\n",
       "      <td>1.0</td>\n",
       "      <td>1400.0</td>\n",
       "      <td>1</td>\n",
       "      <td>2200.0</td>\n",
       "      <td>0</td>\n",
       "      <td>0</td>\n",
       "      <td>0</td>\n",
       "      <td>1</td>\n",
       "      <td>0</td>\n",
       "      <td>0</td>\n",
       "      <td>0</td>\n",
       "      <td>0</td>\n",
       "      <td>1</td>\n",
       "      <td>0</td>\n",
       "    </tr>\n",
       "    <tr>\n",
       "      <th>3</th>\n",
       "      <td>2012.0</td>\n",
       "      <td>110000.0</td>\n",
       "      <td>1500.0</td>\n",
       "      <td>1</td>\n",
       "      <td>6550.0</td>\n",
       "      <td>0</td>\n",
       "      <td>0</td>\n",
       "      <td>1</td>\n",
       "      <td>0</td>\n",
       "      <td>1</td>\n",
       "      <td>0</td>\n",
       "      <td>0</td>\n",
       "      <td>0</td>\n",
       "      <td>0</td>\n",
       "      <td>0</td>\n",
       "    </tr>\n",
       "    <tr>\n",
       "      <th>4</th>\n",
       "      <td>2006.0</td>\n",
       "      <td>200000.0</td>\n",
       "      <td>1600.0</td>\n",
       "      <td>1</td>\n",
       "      <td>4100.0</td>\n",
       "      <td>0</td>\n",
       "      <td>0</td>\n",
       "      <td>1</td>\n",
       "      <td>0</td>\n",
       "      <td>0</td>\n",
       "      <td>0</td>\n",
       "      <td>0</td>\n",
       "      <td>1</td>\n",
       "      <td>0</td>\n",
       "      <td>0</td>\n",
       "    </tr>\n",
       "    <tr>\n",
       "      <th>...</th>\n",
       "      <td>...</td>\n",
       "      <td>...</td>\n",
       "      <td>...</td>\n",
       "      <td>...</td>\n",
       "      <td>...</td>\n",
       "      <td>...</td>\n",
       "      <td>...</td>\n",
       "      <td>...</td>\n",
       "      <td>...</td>\n",
       "      <td>...</td>\n",
       "      <td>...</td>\n",
       "      <td>...</td>\n",
       "      <td>...</td>\n",
       "      <td>...</td>\n",
       "      <td>...</td>\n",
       "    </tr>\n",
       "    <tr>\n",
       "      <th>36957</th>\n",
       "      <td>2002.0</td>\n",
       "      <td>225000.0</td>\n",
       "      <td>1800.0</td>\n",
       "      <td>1</td>\n",
       "      <td>4400.0</td>\n",
       "      <td>0</td>\n",
       "      <td>1</td>\n",
       "      <td>1</td>\n",
       "      <td>1</td>\n",
       "      <td>0</td>\n",
       "      <td>0</td>\n",
       "      <td>0</td>\n",
       "      <td>1</td>\n",
       "      <td>0</td>\n",
       "      <td>0</td>\n",
       "    </tr>\n",
       "    <tr>\n",
       "      <th>36958</th>\n",
       "      <td>2015.0</td>\n",
       "      <td>89000.0</td>\n",
       "      <td>1500.0</td>\n",
       "      <td>1</td>\n",
       "      <td>7000.0</td>\n",
       "      <td>0</td>\n",
       "      <td>0</td>\n",
       "      <td>1</td>\n",
       "      <td>0</td>\n",
       "      <td>1</td>\n",
       "      <td>0</td>\n",
       "      <td>0</td>\n",
       "      <td>0</td>\n",
       "      <td>0</td>\n",
       "      <td>0</td>\n",
       "    </tr>\n",
       "    <tr>\n",
       "      <th>36959</th>\n",
       "      <td>2009.0</td>\n",
       "      <td>225.0</td>\n",
       "      <td>1500.0</td>\n",
       "      <td>1</td>\n",
       "      <td>4500.0</td>\n",
       "      <td>0</td>\n",
       "      <td>0</td>\n",
       "      <td>0</td>\n",
       "      <td>1</td>\n",
       "      <td>1</td>\n",
       "      <td>0</td>\n",
       "      <td>0</td>\n",
       "      <td>0</td>\n",
       "      <td>0</td>\n",
       "      <td>0</td>\n",
       "    </tr>\n",
       "    <tr>\n",
       "      <th>36960</th>\n",
       "      <td>2006.0</td>\n",
       "      <td>370000.0</td>\n",
       "      <td>2000.0</td>\n",
       "      <td>1</td>\n",
       "      <td>4000.0</td>\n",
       "      <td>1</td>\n",
       "      <td>0</td>\n",
       "      <td>1</td>\n",
       "      <td>0</td>\n",
       "      <td>1</td>\n",
       "      <td>0</td>\n",
       "      <td>0</td>\n",
       "      <td>0</td>\n",
       "      <td>0</td>\n",
       "      <td>0</td>\n",
       "    </tr>\n",
       "    <tr>\n",
       "      <th>36961</th>\n",
       "      <td>2006.0</td>\n",
       "      <td>300000.0</td>\n",
       "      <td>1500.0</td>\n",
       "      <td>1</td>\n",
       "      <td>4000.0</td>\n",
       "      <td>1</td>\n",
       "      <td>0</td>\n",
       "      <td>0</td>\n",
       "      <td>0</td>\n",
       "      <td>1</td>\n",
       "      <td>0</td>\n",
       "      <td>0</td>\n",
       "      <td>0</td>\n",
       "      <td>0</td>\n",
       "      <td>0</td>\n",
       "    </tr>\n",
       "  </tbody>\n",
       "</table>\n",
       "<p>36962 rows × 15 columns</p>\n",
       "</div>"
      ],
      "text/plain": [
       "         Year  Distance  Engine_capacity(cm3)  Transmission  Price(euro)  \\\n",
       "0      2011.0  195000.0                1800.0             0       7750.0   \n",
       "1      2014.0  135000.0                1500.0             1       8550.0   \n",
       "2      1998.0       1.0                1400.0             1       2200.0   \n",
       "3      2012.0  110000.0                1500.0             1       6550.0   \n",
       "4      2006.0  200000.0                1600.0             1       4100.0   \n",
       "...       ...       ...                   ...           ...          ...   \n",
       "36957  2002.0  225000.0                1800.0             1       4400.0   \n",
       "36958  2015.0   89000.0                1500.0             1       7000.0   \n",
       "36959  2009.0     225.0                1500.0             1       4500.0   \n",
       "36960  2006.0  370000.0                2000.0             1       4000.0   \n",
       "36961  2006.0  300000.0                1500.0             1       4000.0   \n",
       "\n",
       "       Style_0  Style_1  Style_2  Style_3  Fuel_type_Diesel  \\\n",
       "0            0        0        0        1                 0   \n",
       "1            0        0        1        0                 1   \n",
       "2            0        0        0        1                 0   \n",
       "3            0        0        1        0                 1   \n",
       "4            0        0        1        0                 0   \n",
       "...        ...      ...      ...      ...               ...   \n",
       "36957        0        1        1        1                 0   \n",
       "36958        0        0        1        0                 1   \n",
       "36959        0        0        0        1                 1   \n",
       "36960        1        0        1        0                 1   \n",
       "36961        1        0        0        0                 1   \n",
       "\n",
       "       Fuel_type_Electric  Fuel_type_Hybrid  Fuel_type_Metan/Propan  \\\n",
       "0                       0                 1                       0   \n",
       "1                       0                 0                       0   \n",
       "2                       0                 0                       0   \n",
       "3                       0                 0                       0   \n",
       "4                       0                 0                       1   \n",
       "...                   ...               ...                     ...   \n",
       "36957                   0                 0                       1   \n",
       "36958                   0                 0                       0   \n",
       "36959                   0                 0                       0   \n",
       "36960                   0                 0                       0   \n",
       "36961                   0                 0                       0   \n",
       "\n",
       "       Fuel_type_Petrol  Fuel_type_Plug-in Hybrid  \n",
       "0                     0                         0  \n",
       "1                     0                         0  \n",
       "2                     1                         0  \n",
       "3                     0                         0  \n",
       "4                     0                         0  \n",
       "...                 ...                       ...  \n",
       "36957                 0                         0  \n",
       "36958                 0                         0  \n",
       "36959                 0                         0  \n",
       "36960                 0                         0  \n",
       "36961                 0                         0  \n",
       "\n",
       "[36962 rows x 15 columns]"
      ]
     },
     "execution_count": 4,
     "metadata": {},
     "output_type": "execute_result"
    }
   ],
   "source": [
    "label = LabelEncoder()\n",
    "bn = BinaryEncoder()\n",
    "\n",
    "label.fit(data.Transmission)\n",
    "data.Transmission = label.transform(data.Transmission)\n",
    "\n",
    "df_bn = bn.fit_transform(data.Style)\n",
    "data = data.drop([\"Style\"], axis=1)\n",
    "data = data.join(df_bn)\n",
    "\n",
    "data = pd.get_dummies(data, columns = ['Fuel_type'])\n",
    "data.to_csv('../data/regression/moldova_cars_task_preprocessed.csv')\n",
    "data"
   ]
  },
  {
   "cell_type": "code",
   "execution_count": 5,
   "id": "2524bc8c",
   "metadata": {},
   "outputs": [],
   "source": [
    "df = pd.read_csv('../data/regression/moldova_cars_task_preprocessed.csv', index_col=0)\n",
    "y = df[\"Price(euro)\"]\n",
    "X = df.drop([\"Price(euro)\"], axis=1)"
   ]
  },
  {
   "cell_type": "code",
   "execution_count": 6,
   "id": "c7d018c2",
   "metadata": {},
   "outputs": [
    {
     "data": {
      "text/plain": [
       "((29569, 14), (29569,), (7393, 14), (7393,))"
      ]
     },
     "execution_count": 6,
     "metadata": {},
     "output_type": "execute_result"
    }
   ],
   "source": [
    "X_train, X_test, y_train, y_test = train_test_split(X, y, test_size=0.2)\n",
    "X_train.shape, y_train.shape, X_test.shape, y_test.shape"
   ]
  },
  {
   "cell_type": "code",
   "execution_count": 25,
   "id": "d54359d3",
   "metadata": {},
   "outputs": [
    {
     "data": {
      "text/plain": [
       "array([19699.43559586,  2986.92420007,  4887.43779728, ...,\n",
       "       22799.48716161, 14898.77081445,  6816.78226517])"
      ]
     },
     "execution_count": 25,
     "metadata": {},
     "output_type": "execute_result"
    }
   ],
   "source": [
    "lr = LinearRegression().fit(X_train, y_train)\n",
    "lr.predict(X_test)"
   ]
  },
  {
   "cell_type": "code",
   "execution_count": 26,
   "id": "fbda839f",
   "metadata": {},
   "outputs": [
    {
     "name": "stdout",
     "output_type": "stream",
     "text": [
      "MAE: 4275.279965729946\n",
      "MSE: 65254221.787827715\n",
      "RMSE: 8078.008528581021\n",
      "MAPE: 1.3674403271034203\n",
      "R^2: 0.38117033756274477\n"
     ]
    }
   ],
   "source": [
    "y_pred = lr.predict(X_test)\n",
    "print(f'MAE: {mean_absolute_error(y_test, y_pred)}')\n",
    "print(f'MSE: {mean_squared_error(y_test, y_pred)}')\n",
    "print(f'RMSE: {sqrt(mean_squared_error(y_test, y_pred))}')\n",
    "print(f'MAPE: {sqrt(mean_absolute_percentage_error(y_test, y_pred))}')\n",
    "print(f'R^2: {lr.score(X_test, y_test)}')"
   ]
  },
  {
   "cell_type": "code",
   "execution_count": 27,
   "id": "7d7b5f11",
   "metadata": {},
   "outputs": [
    {
     "data": {
      "text/plain": [
       "{'alpha': 0.9}"
      ]
     },
     "execution_count": 27,
     "metadata": {},
     "output_type": "execute_result"
    }
   ],
   "source": [
    "parameters = {'alpha': np.arange(0, 1, 0.1)}\n",
    "ridge_optimal = GridSearchCV(Ridge(), parameters).fit(X_train, y_train)\n",
    "ridge_optimal.best_params_"
   ]
  },
  {
   "cell_type": "code",
   "execution_count": 28,
   "id": "6b699711",
   "metadata": {},
   "outputs": [
    {
     "data": {
      "text/plain": [
       "{'alpha': 0.9}"
      ]
     },
     "execution_count": 28,
     "metadata": {},
     "output_type": "execute_result"
    }
   ],
   "source": [
    "ridge_optimal = RandomizedSearchCV(Ridge(), parameters).fit(X_train, y_train)\n",
    "ridge_optimal.best_params_"
   ]
  },
  {
   "cell_type": "code",
   "execution_count": 29,
   "id": "06621b17",
   "metadata": {},
   "outputs": [
    {
     "name": "stdout",
     "output_type": "stream",
     "text": [
      "MAE: 4275.216916948012\n",
      "MSE: 65254441.28230209\n",
      "RMSE: 8078.022114496969\n",
      "MAPE: 1.8697783922275357\n",
      "R^2: 0.38116825601632887\n"
     ]
    }
   ],
   "source": [
    "ridge = Ridge(alpha=0.9).fit(X_train, y_train)\n",
    "y_pred = ridge.predict(X_test)\n",
    "print(f'MAE: {mean_absolute_error(y_test, y_pred)}')\n",
    "print(f'MSE: {mean_squared_error(y_test, y_pred)}')\n",
    "print(f'RMSE: {sqrt(mean_squared_error(y_test, y_pred))}')\n",
    "print(f'MAPE: {mean_absolute_percentage_error(y_test, y_pred)}')\n",
    "print(f'R^2: {ridge.score(X_test, y_test)}')"
   ]
  },
  {
   "cell_type": "code",
   "execution_count": 30,
   "id": "c01721b6",
   "metadata": {},
   "outputs": [
    {
     "data": {
      "text/plain": [
       "{'alpha': 0.4}"
      ]
     },
     "execution_count": 30,
     "metadata": {},
     "output_type": "execute_result"
    }
   ],
   "source": [
    "lasso_optimal = RandomizedSearchCV(Lasso(), parameters).fit(X_train, y_train)\n",
    "lasso_optimal.best_params_"
   ]
  },
  {
   "cell_type": "code",
   "execution_count": 31,
   "id": "2725d548",
   "metadata": {},
   "outputs": [
    {
     "name": "stdout",
     "output_type": "stream",
     "text": [
      "MAE: 4274.910777687076\n",
      "MSE: 65254579.69294875\n",
      "RMSE: 8078.030681604815\n",
      "MAPE: 1.8697808086643835\n",
      "R^2: 0.38116694341752066\n"
     ]
    }
   ],
   "source": [
    "lasso = Lasso(alpha=0.4).fit(X_train, y_train)\n",
    "y_pred = lasso.predict(X_test)\n",
    "print(f'MAE: {mean_absolute_error(y_test, y_pred)}')\n",
    "print(f'MSE: {mean_squared_error(y_test, y_pred)}')\n",
    "print(f'RMSE: {sqrt(mean_squared_error(y_test, y_pred))}')\n",
    "print(f'MAPE: {mean_absolute_percentage_error(y_test, y_pred)}')\n",
    "print(f'R^2: {lasso.score(X_test, y_test)}')"
   ]
  },
  {
   "cell_type": "code",
   "execution_count": 32,
   "id": "292c4d9a",
   "metadata": {},
   "outputs": [
    {
     "name": "stdout",
     "output_type": "stream",
     "text": [
      "MAE: 4779.744276144833\n",
      "MSE: 78575400.86817998\n",
      "RMSE: 8864.27666920319\n",
      "MAPE: 2.246217152973949\n",
      "R^2: 0.2548407219807176\n"
     ]
    }
   ],
   "source": [
    "poly = PolynomialFeatures(2)\n",
    "X_p=poly.fit_transform(X_train)\n",
    "X_test_poly=poly.fit_transform(X_test)\n",
    "lr2 = LinearRegression().fit(X_p, y_train)\n",
    "\n",
    "y_pred = lr2.predict(X_test_poly)\n",
    "print(f'MAE: {mean_absolute_error(y_test, y_pred)}')\n",
    "print(f'MSE: {mean_squared_error(y_test, y_pred)}')\n",
    "print(f'RMSE: {sqrt(mean_squared_error(y_test, y_pred))}')\n",
    "print(f'MAPE: {mean_absolute_percentage_error(y_test, y_pred)}')\n",
    "print(f'R^2: {lr2.score(X_test_poly, y_test)}')"
   ]
  },
  {
   "cell_type": "code",
   "execution_count": 33,
   "id": "08de8938",
   "metadata": {},
   "outputs": [
    {
     "data": {
      "text/plain": [
       "{'alpha': 0.4}"
      ]
     },
     "execution_count": 33,
     "metadata": {},
     "output_type": "execute_result"
    }
   ],
   "source": [
    "ridge_optimal = RandomizedSearchCV(Ridge(), parameters).fit(X_p, y_train)\n",
    "ridge_optimal.best_params_"
   ]
  },
  {
   "cell_type": "code",
   "execution_count": 34,
   "id": "b6743be0",
   "metadata": {},
   "outputs": [
    {
     "name": "stdout",
     "output_type": "stream",
     "text": [
      "MAE: 3637.2329738081467\n",
      "MSE: 51995699.422415406\n",
      "RMSE: 7210.804353358605\n",
      "MAPE: 1.186708466011863\n",
      "R^2: 0.5069057565902289\n"
     ]
    }
   ],
   "source": [
    "ridge = Ridge(alpha=0.4).fit(X_p, y_train)\n",
    "y_pred = ridge.predict(X_test_poly)\n",
    "print(f'MAE: {mean_absolute_error(y_test, y_pred)}')\n",
    "print(f'MSE: {mean_squared_error(y_test, y_pred)}')\n",
    "print(f'RMSE: {sqrt(mean_squared_error(y_test, y_pred))}')\n",
    "print(f'MAPE: {sqrt(mean_absolute_percentage_error(y_test, y_pred))}')\n",
    "print(f'R^2: {ridge.score(X_test_poly, y_test)}')"
   ]
  },
  {
   "cell_type": "code",
   "execution_count": 35,
   "id": "b0c68bfa",
   "metadata": {},
   "outputs": [
    {
     "data": {
      "text/plain": [
       "{'alpha': 0.9}"
      ]
     },
     "execution_count": 35,
     "metadata": {},
     "output_type": "execute_result"
    }
   ],
   "source": [
    "lasso_optimal = RandomizedSearchCV(Lasso(), parameters).fit(X_p, y_train)\n",
    "lasso_optimal.best_params_"
   ]
  },
  {
   "cell_type": "code",
   "execution_count": 36,
   "id": "215a20f5",
   "metadata": {},
   "outputs": [
    {
     "name": "stdout",
     "output_type": "stream",
     "text": [
      "MAE: 4105.459807340926\n",
      "MSE: 61697966.59482976\n",
      "RMSE: 7854.805318709673\n",
      "MAPE: 1.232718986312811\n",
      "R^2: 0.414895606830061\n"
     ]
    }
   ],
   "source": [
    "lasso = Lasso(alpha=0.9).fit(X_p, y_train)\n",
    "y_pred = lasso.predict(X_test_poly)\n",
    "print(f'MAE: {mean_absolute_error(y_test, y_pred)}')\n",
    "print(f'MSE: {mean_squared_error(y_test, y_pred)}')\n",
    "print(f'RMSE: {sqrt(mean_squared_error(y_test, y_pred))}')\n",
    "print(f'MAPE: {sqrt(mean_absolute_percentage_error(y_test, y_pred))}')\n",
    "print(f'R^2: {lasso.score(X_test_poly, y_test)}')"
   ]
  },
  {
   "cell_type": "code",
   "execution_count": null,
   "id": "6602289d",
   "metadata": {},
   "outputs": [],
   "source": []
  }
 ],
 "metadata": {
  "kernelspec": {
   "display_name": "Python 3 (ipykernel)",
   "language": "python",
   "name": "python3"
  },
  "language_info": {
   "codemirror_mode": {
    "name": "ipython",
    "version": 3
   },
   "file_extension": ".py",
   "mimetype": "text/x-python",
   "name": "python",
   "nbconvert_exporter": "python",
   "pygments_lexer": "ipython3",
   "version": "3.9.13"
  }
 },
 "nbformat": 4,
 "nbformat_minor": 5
}
